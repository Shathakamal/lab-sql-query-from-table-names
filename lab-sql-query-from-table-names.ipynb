{
 "cells": [
  {
   "cell_type": "markdown",
   "id": "00a57394-53dd-47cd-a5e7-6e7122bbb0f6",
   "metadata": {},
   "source": [
    "# SQL query from table names"
   ]
  },
  {
   "cell_type": "markdown",
   "id": "86bc2813-763c-49f2-9f5d-e1f87a20556f",
   "metadata": {
    "id": "86bc2813-763c-49f2-9f5d-e1f87a20556f"
   },
   "source": [
    "In This notebook we are going to test if using just the name of the table, and a shord definition of its contect we can use a model like GTP3.5-Turbo to select which tables are necessary to create a SQL Order to answer the user petition."
   ]
  },
  {
   "cell_type": "code",
   "execution_count": 8,
   "id": "7fbbdf5b-4d7f-4496-8f40-9d15ea46d023",
   "metadata": {
    "id": "7fbbdf5b-4d7f-4496-8f40-9d15ea46d023"
   },
   "outputs": [],
   "source": [
    "from openai import OpenAI\n",
    "import os\n",
    "from dotenv import load_dotenv, find_dotenv\n",
    "_ = load_dotenv(find_dotenv())\n",
    "\n",
    "OPENAI_API_KEY  = os.getenv('OPENAI_API_KEY')"
   ]
  },
  {
   "cell_type": "code",
   "execution_count": 9,
   "id": "e480bbfb-9a80-4ea6-b792-067e63ae3148",
   "metadata": {
    "id": "e480bbfb-9a80-4ea6-b792-067e63ae3148"
   },
   "outputs": [],
   "source": [
    "#Functio to call the model.\n",
    "def return_OAI(user_message):\n",
    "    client = OpenAI(\n",
    "    # This is the default and can be omitted\n",
    "    api_key=OPENAI_API_KEY,\n",
    ")\n",
    "    context = []\n",
    "    context.append({'role':'system', \"content\": user_message})\n",
    "\n",
    "    response = client.chat.completions.create(\n",
    "            model=\"gpt-3.5-turbo\",\n",
    "            messages=context,\n",
    "            temperature=0,\n",
    "        )\n",
    "\n",
    "    return (response.choices[0].message.content)"
   ]
  },
  {
   "cell_type": "code",
   "execution_count": 11,
   "id": "6d5d2bdc-d822-4ed8-815e-b3f223730f15",
   "metadata": {
    "id": "6d5d2bdc-d822-4ed8-815e-b3f223730f15",
    "outputId": "61068bf0-41e3-40d9-b453-b76da5b0f086"
   },
   "outputs": [
    {
     "name": "stdout",
     "output_type": "stream",
     "text": [
      "      table                                         definition\n",
      "0     users  Stores user information such as name, email, a...\n",
      "1    orders  Stores order details including user ID, produc...\n",
      "2  products  Contains product details like name, price, and...\n"
     ]
    }
   ],
   "source": [
    "import pandas as pd\n",
    "\n",
    "# Table names and definitions\n",
    "tables = [\"users\", \"orders\", \"products\"]\n",
    "definitions = [\n",
    "    \"Stores user information such as name, email, and age.\",\n",
    "    \"Stores order details including user ID, product ID, and order date.\",\n",
    "    \"Contains product details like name, price, and stock.\"\n",
    "]\n",
    "\n",
    "# Create DataFrame\n",
    "data = {'table': tables, 'definition': definitions}\n",
    "df = pd.DataFrame(data)\n",
    "\n",
    "# Print DataFrame\n",
    "print(df)\n"
   ]
  },
  {
   "cell_type": "code",
   "execution_count": 13,
   "id": "009e681c-d95d-4c9c-b044-5bfd76e3ad95",
   "metadata": {
    "id": "009e681c-d95d-4c9c-b044-5bfd76e3ad95"
   },
   "outputs": [],
   "source": [
    "text_tables = '\\n'.join([f\"{row['table']}: {row['definition']}\" for index, row in df.iterrows()])"
   ]
  },
  {
   "cell_type": "code",
   "execution_count": 14,
   "id": "fe03ac25-8d02-4cd1-99a1-be4220c6fd2d",
   "metadata": {
    "id": "fe03ac25-8d02-4cd1-99a1-be4220c6fd2d",
    "outputId": "c1f3aab1-5f26-48fe-fcf9-3780120f5aad"
   },
   "outputs": [
    {
     "name": "stdout",
     "output_type": "stream",
     "text": [
      "users: Stores user information such as name, email, and age.\n",
      "orders: Stores order details including user ID, product ID, and order date.\n",
      "products: Contains product details like name, price, and stock.\n"
     ]
    }
   ],
   "source": [
    "print(text_tables)"
   ]
  },
  {
   "cell_type": "code",
   "execution_count": 15,
   "id": "c7e275ae-f20d-4134-b9b6-d8677dfb544c",
   "metadata": {
    "id": "c7e275ae-f20d-4134-b9b6-d8677dfb544c"
   },
   "outputs": [],
   "source": [
    "prompt_question_tables = \"\"\"\n",
    "Given the following tables and their content definitions,\n",
    "###Tables\n",
    "{tables}\n",
    "\n",
    "Tell me which tables would be necessary to query with SQL to address the user's question below.\n",
    "Return the table names in a json format.\n",
    "###User Questyion:\n",
    "{question}\n",
    "\"\"\"\n"
   ]
  },
  {
   "cell_type": "code",
   "execution_count": 17,
   "id": "b1cb5957-2df2-4e5e-9e6a-ace955c9817e",
   "metadata": {
    "id": "b1cb5957-2df2-4e5e-9e6a-ace955c9817e"
   },
   "outputs": [],
   "source": [
    "# Creating the prompt with user question and table definitions\n",
    "pqt1 = prompt_question_tables.format(tables=text_tables, question=\"ENTER YOUR QUERY HERE\")\n"
   ]
  },
  {
   "cell_type": "code",
   "execution_count": 18,
   "id": "10d30f2b-6c23-4fd6-8038-840fba784cce",
   "metadata": {
    "id": "10d30f2b-6c23-4fd6-8038-840fba784cce",
    "outputId": "9924022c-7b2b-4ec8-e2c2-75bc1c745151",
    "scrolled": true
   },
   "outputs": [
    {
     "name": "stdout",
     "output_type": "stream",
     "text": [
      "{\n",
      "    \"tables\": [\"users\", \"orders\", \"products\"]\n",
      "}\n"
     ]
    }
   ],
   "source": [
    "print(return_OAI(pqt1))"
   ]
  },
  {
   "cell_type": "code",
   "execution_count": 23,
   "id": "c96a36d6",
   "metadata": {},
   "outputs": [],
   "source": [
    "pqt3 = prompt_question_tables.format(tables=text_tables, \n",
    "                                     question=\"What is the total number of users?\")\n"
   ]
  },
  {
   "cell_type": "code",
   "execution_count": 24,
   "id": "a0eeb79e-caf1-4f48-9897-168d95d2ae37",
   "metadata": {
    "id": "a0eeb79e-caf1-4f48-9897-168d95d2ae37",
    "outputId": "81d77115-9cad-4284-a228-5368bb9aa6fb"
   },
   "outputs": [
    {
     "name": "stdout",
     "output_type": "stream",
     "text": [
      "```json\n",
      "{\n",
      "    \"tables\": [\"users\"]\n",
      "}\n",
      "```\n"
     ]
    }
   ],
   "source": [
    "print(return_OAI(pqt3))"
   ]
  },
  {
   "cell_type": "markdown",
   "id": "321bb9a2-4937-4e9a-a31b-7049cb8f5aa3",
   "metadata": {
    "id": "321bb9a2-4937-4e9a-a31b-7049cb8f5aa3"
   },
   "source": [
    "# Exercise\n",
    " - Complete the prompts similar to what we did in class. \n",
    "     - Try a few versions if you have time\n",
    "     - Be creative\n",
    " - Write a one page report summarizing your findings.\n",
    "     - Were there variations that didn't work well? i.e., where GPT either hallucinated or wrong\n",
    " - What did you learn?"
   ]
  },
  {
   "cell_type": "code",
   "execution_count": 25,
   "id": "fcf7ed80",
   "metadata": {},
   "outputs": [
    {
     "name": "stdout",
     "output_type": "stream",
     "text": [
      "```json\n",
      "{\n",
      "    \"tables\": [\"users\", \"orders\", \"products\"]\n",
      "}\n",
      "```\n"
     ]
    }
   ],
   "source": [
    "pqt4 = prompt_question_tables.format(tables=text_tables, \n",
    "                                     question=\"What products have been ordered by users over the age of 30?\")\n",
    "print(return_OAI(pqt4))"
   ]
  },
  {
   "cell_type": "code",
   "execution_count": 26,
   "id": "3e85f842",
   "metadata": {},
   "outputs": [
    {
     "name": "stdout",
     "output_type": "stream",
     "text": [
      "{\n",
      "    \"tables\": [\"orders\", \"products\"]\n",
      "}\n"
     ]
    }
   ],
   "source": [
    "pqt5 = prompt_question_tables.format(tables=text_tables, \n",
    "                                     question=\"What is the total sales for each product?\")\n",
    "print(return_OAI(pqt5))"
   ]
  },
  {
   "cell_type": "code",
   "execution_count": 27,
   "id": "e54ef374",
   "metadata": {},
   "outputs": [
    {
     "name": "stdout",
     "output_type": "stream",
     "text": [
      "```json\n",
      "{\n",
      "    \"tables\": [\"users\", \"orders\", \"products\"]\n",
      "}\n",
      "```\n"
     ]
    }
   ],
   "source": [
    "pqt6 = prompt_question_tables.format(tables=text_tables, \n",
    "                                     question=\"What are the names of users who have ordered a specific product?\")\n",
    "print(return_OAI(pqt6))"
   ]
  },
  {
   "cell_type": "markdown",
   "id": "b3b3026e",
   "metadata": {},
   "source": [
    "Findings Report:\n",
    "1. Results:\n",
    "Question 1: \"What products have been ordered by users over the age of 30?\"\n",
    "\n",
    "Required tables: users, orders, products.\n",
    "\n",
    "Result: The tables were correctly identified, as the model needs all three tables to answer the question.\n",
    "\n",
    "Question 2: \"What is the total sales for each product?\"\n",
    "\n",
    "Required tables: orders, products.\n",
    "\n",
    "Result: The tables were correctly identified, as the model needs the orders and products tables to calculate total sales.\n",
    "\n",
    "Question 3: \"What are the names of users who have ordered a specific product?\"\n",
    "\n",
    "Required tables: users, orders.\n",
    "\n",
    "Result: The tables were correctly identified, as the model needs the users and orders tables to link users to the products they ordered.\n",
    "\n",
    "2. Variations That Did Not Work Well:\n",
    "Sometimes, when the question is ambiguous or requires additional information, the model may provide an inaccurate answer. For example, if the question involves data not present in the specified tables, the model might \"hallucinate\" an answer instead of indicating that the data is unavailable.\n",
    "\n",
    "3. What I Learned:\n",
    "Model Accuracy: The model performs well when the questions are clear and match the available data in the tables.\n",
    "\n",
    "Ambiguity in Questions: If the question is ambiguous or requires additional information, the model may provide an inaccurate answer or attempt to guess the answer.\n",
    "\n",
    "Importance of Table Definitions: Clearly defining the tables helps the model understand the relationships between them and accurately determine which tables are needed.\n",
    "\n",
    "3. Conclusion:\n",
    "Through this experiment, I learned that the model performs well when the questions are clear and specific, and that accurately defining the tables helps improve the accuracy of the answers. However, we must be cautious with ambiguous questions that may lead to inaccurate responses.\n",
    "\n"
   ]
  }
 ],
 "metadata": {
  "colab": {
   "include_colab_link": true,
   "provenance": []
  },
  "kernelspec": {
   "display_name": "Python 3",
   "language": "python",
   "name": "python3"
  },
  "language_info": {
   "codemirror_mode": {
    "name": "ipython",
    "version": 3
   },
   "file_extension": ".py",
   "mimetype": "text/x-python",
   "name": "python",
   "nbconvert_exporter": "python",
   "pygments_lexer": "ipython3",
   "version": "3.11.7"
  }
 },
 "nbformat": 4,
 "nbformat_minor": 5
}
